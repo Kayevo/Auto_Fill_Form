{
 "cells": [
  {
   "cell_type": "markdown",
   "id": "fe071691",
   "metadata": {},
   "source": [
    "<h3>Fill form with Phyton.</h3>\n",
    "\n",
    "Form link: https://forms.gle/y3hXKceG8BodHqU58"
   ]
  },
  {
   "cell_type": "code",
   "execution_count": 12,
   "id": "3e4e2f07",
   "metadata": {},
   "outputs": [],
   "source": [
    "from selenium import webdriver\n",
    "from selenium.webdriver.common.by import By\n",
    "\n",
    "# open form from link\n",
    "browser = webdriver.Chrome()\n",
    "browser.get(\"https://forms.gle/y3hXKceG8BodHqU58\")\n",
    "\n",
    "# get elements and set a value\n",
    "emailElement = browser.find_element(By.XPATH, '//*[@id=\"mG61Hd\"]/div[2]/div/div[2]/div[1]/div/div/div[2]/div/div[1]/div/div[1]/input')\n",
    "emailElement.send_keys(\"email1@protonmail.com\")\n",
    "\n",
    "nameElement = browser.find_element(By.XPATH, '//*[@id=\"mG61Hd\"]/div[2]/div/div[2]/div[2]/div/div/div[2]/div/div[1]/div/div[1]/input')\n",
    "nameElement.send_keys(\"Mathew Simpson\")\n",
    "\n",
    "# get button an click on it\n",
    "sendButton = browser.find_element(By.XPATH, '//*[@id=\"mG61Hd\"]/div[2]/div/div[3]/div[1]/div[1]/div/span')\n",
    "sendButton.click()"
   ]
  }
 ],
 "metadata": {
  "kernelspec": {
   "display_name": "Python 3 (ipykernel)",
   "language": "python",
   "name": "python3"
  },
  "language_info": {
   "codemirror_mode": {
    "name": "ipython",
    "version": 3
   },
   "file_extension": ".py",
   "mimetype": "text/x-python",
   "name": "python",
   "nbconvert_exporter": "python",
   "pygments_lexer": "ipython3",
   "version": "3.9.7"
  }
 },
 "nbformat": 4,
 "nbformat_minor": 5
}
